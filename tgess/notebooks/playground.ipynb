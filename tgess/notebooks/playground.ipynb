{
 "cells": [
  {
   "cell_type": "markdown",
   "id": "ca8cdcdf",
   "metadata": {},
   "source": [
    "Notebook used for simple tests"
   ]
  },
  {
   "cell_type": "code",
   "execution_count": 1,
   "id": "a6868009",
   "metadata": {},
   "outputs": [],
   "source": [
    "import numpy as np\n",
    "import pandas as pd\n",
    "import ast"
   ]
  },
  {
   "cell_type": "code",
   "execution_count": 7,
   "id": "5b07bcc0",
   "metadata": {},
   "outputs": [
    {
     "data": {
      "text/html": [
       "<div>\n",
       "<style scoped>\n",
       "    .dataframe tbody tr th:only-of-type {\n",
       "        vertical-align: middle;\n",
       "    }\n",
       "\n",
       "    .dataframe tbody tr th {\n",
       "        vertical-align: top;\n",
       "    }\n",
       "\n",
       "    .dataframe thead th {\n",
       "        text-align: right;\n",
       "    }\n",
       "</style>\n",
       "<table border=\"1\" class=\"dataframe\">\n",
       "  <thead>\n",
       "    <tr style=\"text-align: right;\">\n",
       "      <th></th>\n",
       "      <th>params</th>\n",
       "      <th>values</th>\n",
       "    </tr>\n",
       "  </thead>\n",
       "  <tbody>\n",
       "    <tr>\n",
       "      <th>0</th>\n",
       "      <td>{'b': 1, 'c': 4}</td>\n",
       "      <td>1324321</td>\n",
       "    </tr>\n",
       "  </tbody>\n",
       "</table>\n",
       "</div>"
      ],
      "text/plain": [
       "             params   values\n",
       "0  {'b': 1, 'c': 4}  1324321"
      ]
     },
     "execution_count": 7,
     "metadata": {},
     "output_type": "execute_result"
    }
   ],
   "source": [
    "a = {\"b\": 1, \"c\": 4}\n",
    "data = {\"params\":str(a), \"values\":[1324321]}\n",
    "df = pd.DataFrame(data)\n",
    "df"
   ]
  },
  {
   "cell_type": "code",
   "execution_count": 12,
   "id": "6d8d30f1",
   "metadata": {},
   "outputs": [
    {
     "data": {
      "text/plain": [
       "{'b': 1, 'c': 4}"
      ]
     },
     "execution_count": 12,
     "metadata": {},
     "output_type": "execute_result"
    }
   ],
   "source": [
    "out_dict = ast.literal_eval(df.iloc[0][\"params\"])\n",
    "out_dict"
   ]
  },
  {
   "cell_type": "code",
   "execution_count": 8,
   "id": "18d50496",
   "metadata": {},
   "outputs": [
    {
     "data": {
      "text/plain": [
       "dict_items([('in_situ_dataset', 'GBOV_RM07_in_situ.csv'), ('simulation_dataset', 'PROSAIL_LUT_S2_100000_generic.csv'), ('simulation_samples', 100000), ('simulation_config', 'generic'), ('model_type', \"<class 'sklearn.ensemble._forest.RandomForestRegressor'>\"), ('model_config', \"{'n_estimators': 1}\"), ('model_file', 'None'), ('validation_config', 'None'), ('mean_absolute_error', 1.3023861214380827), ('mean_squared_error', 3.970611551822838), ('r2_score', 0.015087246747015781), ('mean_absolute_percentage_error', 2014.9043772750488), ('tune_time', 0.0), ('train_time', 1.375), ('test_time', 0.015625)])"
      ]
     },
     "execution_count": 8,
     "metadata": {},
     "output_type": "execute_result"
    }
   ],
   "source": [
    "d.items()"
   ]
  },
  {
   "cell_type": "code",
   "execution_count": 14,
   "id": "0cf67dff",
   "metadata": {},
   "outputs": [
    {
     "data": {
      "text/plain": [
       "dict"
      ]
     },
     "execution_count": 14,
     "metadata": {},
     "output_type": "execute_result"
    }
   ],
   "source": [
    "type(out_dict)"
   ]
  },
  {
   "cell_type": "code",
   "execution_count": 9,
   "id": "4ebab588",
   "metadata": {},
   "outputs": [],
   "source": [
    "df = pd.read_csv(\"../src/data_science/results/experiment_1.csv\")"
   ]
  },
  {
   "cell_type": "code",
   "execution_count": 10,
   "id": "cad76a3c",
   "metadata": {},
   "outputs": [
    {
     "data": {
      "text/html": [
       "<div>\n",
       "<style scoped>\n",
       "    .dataframe tbody tr th:only-of-type {\n",
       "        vertical-align: middle;\n",
       "    }\n",
       "\n",
       "    .dataframe tbody tr th {\n",
       "        vertical-align: top;\n",
       "    }\n",
       "\n",
       "    .dataframe thead th {\n",
       "        text-align: right;\n",
       "    }\n",
       "</style>\n",
       "<table border=\"1\" class=\"dataframe\">\n",
       "  <thead>\n",
       "    <tr style=\"text-align: right;\">\n",
       "      <th></th>\n",
       "      <th>Unnamed: 0</th>\n",
       "      <th>in_situ_dataset</th>\n",
       "      <th>simulation_dataset</th>\n",
       "      <th>simulation_samples</th>\n",
       "      <th>simulation_config</th>\n",
       "      <th>model_type</th>\n",
       "      <th>model_config</th>\n",
       "      <th>model_file</th>\n",
       "      <th>validation_config</th>\n",
       "      <th>mean_absolute_error</th>\n",
       "      <th>mean_squared_error</th>\n",
       "      <th>r2_score</th>\n",
       "      <th>mean_absolute_percentage_error</th>\n",
       "      <th>tune_time</th>\n",
       "      <th>train_time</th>\n",
       "      <th>test_time</th>\n",
       "      <th>run_id</th>\n",
       "    </tr>\n",
       "  </thead>\n",
       "  <tbody>\n",
       "    <tr>\n",
       "      <th>0</th>\n",
       "      <td>0</td>\n",
       "      <td>GBOV_RM07_in_situ.csv</td>\n",
       "      <td>PROSAIL_LUT_S2_100000_generic.csv</td>\n",
       "      <td>100000</td>\n",
       "      <td>generic</td>\n",
       "      <td>&lt;class 'sklearn.ensemble._forest.RandomForestR...</td>\n",
       "      <td>{'n_estimators': 1}</td>\n",
       "      <td>None</td>\n",
       "      <td>None</td>\n",
       "      <td>1.192395</td>\n",
       "      <td>3.158401</td>\n",
       "      <td>0.216557</td>\n",
       "      <td>2160.197717</td>\n",
       "      <td>0.0</td>\n",
       "      <td>1.390625</td>\n",
       "      <td>0.000000</td>\n",
       "      <td>0</td>\n",
       "    </tr>\n",
       "    <tr>\n",
       "      <th>1</th>\n",
       "      <td>0</td>\n",
       "      <td>GBOV_RM07_in_situ.csv</td>\n",
       "      <td>PROSAIL_LUT_S2_100000_generic.csv</td>\n",
       "      <td>100000</td>\n",
       "      <td>generic</td>\n",
       "      <td>&lt;class 'sklearn.linear_model._base.LinearRegre...</td>\n",
       "      <td>{'fit_intercept': True}</td>\n",
       "      <td>None</td>\n",
       "      <td>None</td>\n",
       "      <td>12.140414</td>\n",
       "      <td>303.582806</td>\n",
       "      <td>-74.303911</td>\n",
       "      <td>55802.714201</td>\n",
       "      <td>0.0</td>\n",
       "      <td>0.140625</td>\n",
       "      <td>0.046875</td>\n",
       "      <td>1</td>\n",
       "    </tr>\n",
       "  </tbody>\n",
       "</table>\n",
       "</div>"
      ],
      "text/plain": [
       "   Unnamed: 0        in_situ_dataset                 simulation_dataset  \\\n",
       "0           0  GBOV_RM07_in_situ.csv  PROSAIL_LUT_S2_100000_generic.csv   \n",
       "1           0  GBOV_RM07_in_situ.csv  PROSAIL_LUT_S2_100000_generic.csv   \n",
       "\n",
       "   simulation_samples simulation_config  \\\n",
       "0              100000           generic   \n",
       "1              100000           generic   \n",
       "\n",
       "                                          model_type             model_config  \\\n",
       "0  <class 'sklearn.ensemble._forest.RandomForestR...      {'n_estimators': 1}   \n",
       "1  <class 'sklearn.linear_model._base.LinearRegre...  {'fit_intercept': True}   \n",
       "\n",
       "  model_file validation_config  mean_absolute_error  mean_squared_error  \\\n",
       "0       None              None             1.192395            3.158401   \n",
       "1       None              None            12.140414          303.582806   \n",
       "\n",
       "    r2_score  mean_absolute_percentage_error  tune_time  train_time  \\\n",
       "0   0.216557                     2160.197717        0.0    1.390625   \n",
       "1 -74.303911                    55802.714201        0.0    0.140625   \n",
       "\n",
       "   test_time  run_id  \n",
       "0   0.000000       0  \n",
       "1   0.046875       1  "
      ]
     },
     "execution_count": 10,
     "metadata": {},
     "output_type": "execute_result"
    }
   ],
   "source": [
    "df"
   ]
  },
  {
   "cell_type": "code",
   "execution_count": 16,
   "id": "646e1ade",
   "metadata": {},
   "outputs": [
    {
     "data": {
      "text/html": [
       "<div>\n",
       "<style scoped>\n",
       "    .dataframe tbody tr th:only-of-type {\n",
       "        vertical-align: middle;\n",
       "    }\n",
       "\n",
       "    .dataframe tbody tr th {\n",
       "        vertical-align: top;\n",
       "    }\n",
       "\n",
       "    .dataframe thead th {\n",
       "        text-align: right;\n",
       "    }\n",
       "</style>\n",
       "<table border=\"1\" class=\"dataframe\">\n",
       "  <thead>\n",
       "    <tr style=\"text-align: right;\">\n",
       "      <th></th>\n",
       "      <th>Unnamed: 0</th>\n",
       "      <th>in_situ_dataset</th>\n",
       "      <th>simulation_dataset</th>\n",
       "      <th>simulation_samples</th>\n",
       "      <th>simulation_config</th>\n",
       "      <th>model_type</th>\n",
       "      <th>model_config</th>\n",
       "      <th>model_file</th>\n",
       "      <th>validation_config</th>\n",
       "      <th>mean_absolute_error</th>\n",
       "      <th>mean_squared_error</th>\n",
       "      <th>r2_score</th>\n",
       "      <th>mean_absolute_percentage_error</th>\n",
       "      <th>tune_time</th>\n",
       "      <th>train_time</th>\n",
       "      <th>test_time</th>\n",
       "      <th>run_id</th>\n",
       "    </tr>\n",
       "  </thead>\n",
       "  <tbody>\n",
       "    <tr>\n",
       "      <th>0</th>\n",
       "      <td>0</td>\n",
       "      <td>GBOV_RM07_in_situ.csv</td>\n",
       "      <td>PROSAIL_LUT_S2_100000_generic.csv</td>\n",
       "      <td>100000</td>\n",
       "      <td>generic</td>\n",
       "      <td>&lt;class 'sklearn.ensemble._forest.RandomForestR...</td>\n",
       "      <td>{'n_estimators': 1}</td>\n",
       "      <td>None</td>\n",
       "      <td>None</td>\n",
       "      <td>1.192395</td>\n",
       "      <td>3.158401</td>\n",
       "      <td>0.216557</td>\n",
       "      <td>2160.197717</td>\n",
       "      <td>0.0</td>\n",
       "      <td>1.390625</td>\n",
       "      <td>0.000000</td>\n",
       "      <td>0</td>\n",
       "    </tr>\n",
       "    <tr>\n",
       "      <th>1</th>\n",
       "      <td>0</td>\n",
       "      <td>GBOV_RM07_in_situ.csv</td>\n",
       "      <td>PROSAIL_LUT_S2_100000_generic.csv</td>\n",
       "      <td>100000</td>\n",
       "      <td>generic</td>\n",
       "      <td>&lt;class 'sklearn.linear_model._base.LinearRegre...</td>\n",
       "      <td>{'fit_intercept': True}</td>\n",
       "      <td>None</td>\n",
       "      <td>None</td>\n",
       "      <td>12.140414</td>\n",
       "      <td>303.582806</td>\n",
       "      <td>-74.303911</td>\n",
       "      <td>55802.714201</td>\n",
       "      <td>0.0</td>\n",
       "      <td>0.140625</td>\n",
       "      <td>0.046875</td>\n",
       "      <td>1</td>\n",
       "    </tr>\n",
       "  </tbody>\n",
       "</table>\n",
       "</div>"
      ],
      "text/plain": [
       "   Unnamed: 0        in_situ_dataset                 simulation_dataset  \\\n",
       "0           0  GBOV_RM07_in_situ.csv  PROSAIL_LUT_S2_100000_generic.csv   \n",
       "1           0  GBOV_RM07_in_situ.csv  PROSAIL_LUT_S2_100000_generic.csv   \n",
       "\n",
       "   simulation_samples simulation_config  \\\n",
       "0              100000           generic   \n",
       "1              100000           generic   \n",
       "\n",
       "                                          model_type             model_config  \\\n",
       "0  <class 'sklearn.ensemble._forest.RandomForestR...      {'n_estimators': 1}   \n",
       "1  <class 'sklearn.linear_model._base.LinearRegre...  {'fit_intercept': True}   \n",
       "\n",
       "  model_file validation_config  mean_absolute_error  mean_squared_error  \\\n",
       "0       None              None             1.192395            3.158401   \n",
       "1       None              None            12.140414          303.582806   \n",
       "\n",
       "    r2_score  mean_absolute_percentage_error  tune_time  train_time  \\\n",
       "0   0.216557                     2160.197717        0.0    1.390625   \n",
       "1 -74.303911                    55802.714201        0.0    0.140625   \n",
       "\n",
       "   test_time  run_id  \n",
       "0   0.000000       0  \n",
       "1   0.046875       1  "
      ]
     },
     "execution_count": 16,
     "metadata": {},
     "output_type": "execute_result"
    }
   ],
   "source": [
    "df.sample(frac=1)"
   ]
  },
  {
   "cell_type": "code",
   "execution_count": 6,
   "id": "03cac619",
   "metadata": {},
   "outputs": [],
   "source": [
    "a = [\"col1\", \"col2\"]\n",
    "b = (\"col3\", \"col4\")\n",
    "c = \"col5\""
   ]
  },
  {
   "cell_type": "code",
   "execution_count": 7,
   "id": "068d2159",
   "metadata": {},
   "outputs": [
    {
     "data": {
      "text/plain": [
       "['col1', 'col2', 'col3', 'col4']"
      ]
     },
     "execution_count": 7,
     "metadata": {},
     "output_type": "execute_result"
    }
   ],
   "source": [
    "a+list(b)"
   ]
  },
  {
   "cell_type": "code",
   "execution_count": 9,
   "id": "d44a069a",
   "metadata": {},
   "outputs": [
    {
     "data": {
      "text/plain": [
       "['col1', 'col2', 'col5']"
      ]
     },
     "execution_count": 9,
     "metadata": {},
     "output_type": "execute_result"
    }
   ],
   "source": [
    "a+[c]"
   ]
  },
  {
   "cell_type": "code",
   "execution_count": 11,
   "id": "017dcd7a",
   "metadata": {},
   "outputs": [
    {
     "data": {
      "text/plain": [
       "[1, 2]"
      ]
     },
     "execution_count": 11,
     "metadata": {},
     "output_type": "execute_result"
    }
   ],
   "source": [
    "[int(''.join(filter(str.isdigit, val))) for val in a]"
   ]
  },
  {
   "cell_type": "code",
   "execution_count": null,
   "id": "ad927c17",
   "metadata": {},
   "outputs": [],
   "source": []
  }
 ],
 "metadata": {
  "kernelspec": {
   "display_name": "Python 3",
   "language": "python",
   "name": "python3"
  },
  "language_info": {
   "codemirror_mode": {
    "name": "ipython",
    "version": 3
   },
   "file_extension": ".py",
   "mimetype": "text/x-python",
   "name": "python",
   "nbconvert_exporter": "python",
   "pygments_lexer": "ipython3",
   "version": "3.7.10"
  }
 },
 "nbformat": 4,
 "nbformat_minor": 5
}
