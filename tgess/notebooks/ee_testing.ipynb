{
 "cells": [
  {
   "cell_type": "code",
   "execution_count": 52,
   "metadata": {},
   "outputs": [
    {
     "name": "stderr",
     "output_type": "stream",
     "text": [
      "C:\\Users\\victo\\AppData\\Local\\Continuum\\anaconda3\\lib\\site-packages\\tqdm\\std.py:658: FutureWarning: The Panel class is removed from pandas. Accessing it from the top-level namespace will also be removed in the next version\n",
      "  from pandas import Panel\n"
     ]
    }
   ],
   "source": [
    "import pandas as pd\n",
    "import numpy as np\n",
    "from tqdm.auto import tqdm\n",
    "import matplotlib.pyplot as plt\n",
    "import IPython.display as disp\n",
    "%matplotlib inline\n",
    "\n",
    "tqdm.pandas()"
   ]
  },
  {
   "cell_type": "code",
   "execution_count": 2,
   "metadata": {
    "scrolled": true
   },
   "outputs": [
    {
     "data": {
      "text/html": [
       "<p>To authorize access needed by Earth Engine, open the following\n",
       "        URL in a web browser and follow the instructions:</p>\n",
       "        <p><a href=https://accounts.google.com/o/oauth2/auth?client_id=517222506229-vsmmajv00ul0bs7p89v5m89qs8eb9359.apps.googleusercontent.com&scope=https%3A%2F%2Fwww.googleapis.com%2Fauth%2Fearthengine+https%3A%2F%2Fwww.googleapis.com%2Fauth%2Fdevstorage.full_control&redirect_uri=urn%3Aietf%3Awg%3Aoauth%3A2.0%3Aoob&response_type=code&code_challenge=yp8u1tM3ICu7UFulT8k8MbAfVymEQqCL1Fj1UFryz-o&code_challenge_method=S256>https://accounts.google.com/o/oauth2/auth?client_id=517222506229-vsmmajv00ul0bs7p89v5m89qs8eb9359.apps.googleusercontent.com&scope=https%3A%2F%2Fwww.googleapis.com%2Fauth%2Fearthengine+https%3A%2F%2Fwww.googleapis.com%2Fauth%2Fdevstorage.full_control&redirect_uri=urn%3Aietf%3Awg%3Aoauth%3A2.0%3Aoob&response_type=code&code_challenge=yp8u1tM3ICu7UFulT8k8MbAfVymEQqCL1Fj1UFryz-o&code_challenge_method=S256</a></p>\n",
       "        <p>The authorization workflow will generate a code, which you\n",
       "        should paste in the box below</p>\n",
       "        "
      ],
      "text/plain": [
       "<IPython.core.display.HTML object>"
      ]
     },
     "metadata": {},
     "output_type": "display_data"
    },
    {
     "name": "stdout",
     "output_type": "stream",
     "text": [
      "Enter verification code: 4/1AY0e-g5piPCM-kSmdxKl3KBSwBwWcOhIGJ2yHkivHU2RL_INqRJWcXmrTUc\n",
      "\n",
      "Successfully saved authorization token.\n"
     ]
    }
   ],
   "source": [
    "import ee\n",
    "\n",
    "# Trigger the authentication flow.\n",
    "ee.Authenticate()\n",
    "\n",
    "# Initialize the library.\n",
    "ee.Initialize()"
   ]
  },
  {
   "cell_type": "code",
   "execution_count": 51,
   "metadata": {},
   "outputs": [],
   "source": [
    "# Import the Folium library.\n",
    "import folium\n",
    "\n",
    "# Define a method for displaying Earth Engine image tiles to folium map.\n",
    "def add_ee_layer(self, ee_image_object, vis_params, name):\n",
    "  map_id_dict = ee.Image(ee_image_object).getMapId(vis_params)\n",
    "  folium.raster_layers.TileLayer(\n",
    "    tiles = map_id_dict['tile_fetcher'].url_format,\n",
    "    attr = 'Map Data &copy; <a href=\"https://earthengine.google.com/\">Google Earth Engine</a>',\n",
    "    name = name,\n",
    "    overlay = True,\n",
    "    control = True\n",
    "  ).add_to(self)\n",
    "\n",
    "# Add EE drawing method to folium.\n",
    "folium.Map.add_ee_layer = add_ee_layer"
   ]
  },
  {
   "cell_type": "code",
   "execution_count": 190,
   "metadata": {},
   "outputs": [
    {
     "data": {
      "text/html": [
       "<div>\n",
       "<style scoped>\n",
       "    .dataframe tbody tr th:only-of-type {\n",
       "        vertical-align: middle;\n",
       "    }\n",
       "\n",
       "    .dataframe tbody tr th {\n",
       "        vertical-align: top;\n",
       "    }\n",
       "\n",
       "    .dataframe thead th {\n",
       "        text-align: right;\n",
       "    }\n",
       "</style>\n",
       "<table border=\"1\" class=\"dataframe\">\n",
       "  <thead>\n",
       "    <tr style=\"text-align: right;\">\n",
       "      <th></th>\n",
       "      <th>Unnamed: 0</th>\n",
       "      <th>Site</th>\n",
       "      <th>GROUND_DATA_PI</th>\n",
       "      <th>GROUND_DATA_PIs_Email</th>\n",
       "      <th>GBOV_Email</th>\n",
       "      <th>Network</th>\n",
       "      <th>Elevation</th>\n",
       "      <th>IGBP_class</th>\n",
       "      <th>Lat_IS</th>\n",
       "      <th>Lon_IS</th>\n",
       "      <th>...</th>\n",
       "      <th>down_flag</th>\n",
       "      <th>LAI_Miller</th>\n",
       "      <th>LAI_Warren</th>\n",
       "      <th>datetime</th>\n",
       "      <th>tiles</th>\n",
       "      <th>date</th>\n",
       "      <th>date_start</th>\n",
       "      <th>date_end</th>\n",
       "      <th>first_tile</th>\n",
       "      <th>second_tile</th>\n",
       "    </tr>\n",
       "  </thead>\n",
       "  <tbody>\n",
       "    <tr>\n",
       "      <th>0</th>\n",
       "      <td>2018</td>\n",
       "      <td>JonesEcologicalResearchCenter</td>\n",
       "      <td>Courtney Meier</td>\n",
       "      <td>cmeier@battelleecology.org</td>\n",
       "      <td>support-copernicus-gbov@acri-st.fr</td>\n",
       "      <td>NEON</td>\n",
       "      <td>44</td>\n",
       "      <td>Croplands</td>\n",
       "      <td>31.194839</td>\n",
       "      <td>-84.468777</td>\n",
       "      <td>...</td>\n",
       "      <td>0</td>\n",
       "      <td>4.780</td>\n",
       "      <td>3.950</td>\n",
       "      <td>2019-08-26 17:43:00+00:00</td>\n",
       "      <td>['16RGV']</td>\n",
       "      <td>2019-08-26</td>\n",
       "      <td>2019-08-21</td>\n",
       "      <td>2019-08-31</td>\n",
       "      <td>16RGV</td>\n",
       "      <td>NaN</td>\n",
       "    </tr>\n",
       "    <tr>\n",
       "      <th>1</th>\n",
       "      <td>2019</td>\n",
       "      <td>JonesEcologicalResearchCenter</td>\n",
       "      <td>Courtney Meier</td>\n",
       "      <td>cmeier@battelleecology.org</td>\n",
       "      <td>support-copernicus-gbov@acri-st.fr</td>\n",
       "      <td>NEON</td>\n",
       "      <td>44</td>\n",
       "      <td>Croplands</td>\n",
       "      <td>31.194839</td>\n",
       "      <td>-84.468777</td>\n",
       "      <td>...</td>\n",
       "      <td>0</td>\n",
       "      <td>4.110</td>\n",
       "      <td>2.650</td>\n",
       "      <td>2019-08-20 13:28:00+00:00</td>\n",
       "      <td>['16RGV']</td>\n",
       "      <td>2019-08-20</td>\n",
       "      <td>2019-08-15</td>\n",
       "      <td>2019-08-25</td>\n",
       "      <td>16RGV</td>\n",
       "      <td>NaN</td>\n",
       "    </tr>\n",
       "    <tr>\n",
       "      <th>2</th>\n",
       "      <td>2020</td>\n",
       "      <td>JonesEcologicalResearchCenter</td>\n",
       "      <td>Courtney Meier</td>\n",
       "      <td>cmeier@battelleecology.org</td>\n",
       "      <td>support-copernicus-gbov@acri-st.fr</td>\n",
       "      <td>NEON</td>\n",
       "      <td>44</td>\n",
       "      <td>Croplands</td>\n",
       "      <td>31.194839</td>\n",
       "      <td>-84.468777</td>\n",
       "      <td>...</td>\n",
       "      <td>0</td>\n",
       "      <td>2.700</td>\n",
       "      <td>2.280</td>\n",
       "      <td>2019-08-20 07:06:00+00:00</td>\n",
       "      <td>['16RGV']</td>\n",
       "      <td>2019-08-20</td>\n",
       "      <td>2019-08-15</td>\n",
       "      <td>2019-08-25</td>\n",
       "      <td>16RGV</td>\n",
       "      <td>NaN</td>\n",
       "    </tr>\n",
       "    <tr>\n",
       "      <th>3</th>\n",
       "      <td>2021</td>\n",
       "      <td>JonesEcologicalResearchCenter</td>\n",
       "      <td>Courtney Meier</td>\n",
       "      <td>cmeier@battelleecology.org</td>\n",
       "      <td>support-copernicus-gbov@acri-st.fr</td>\n",
       "      <td>NEON</td>\n",
       "      <td>44</td>\n",
       "      <td>Croplands</td>\n",
       "      <td>31.194839</td>\n",
       "      <td>-84.468777</td>\n",
       "      <td>...</td>\n",
       "      <td>0</td>\n",
       "      <td>2.100</td>\n",
       "      <td>1.880</td>\n",
       "      <td>2019-08-20 19:19:00+00:00</td>\n",
       "      <td>['16RGV']</td>\n",
       "      <td>2019-08-20</td>\n",
       "      <td>2019-08-15</td>\n",
       "      <td>2019-08-25</td>\n",
       "      <td>16RGV</td>\n",
       "      <td>NaN</td>\n",
       "    </tr>\n",
       "    <tr>\n",
       "      <th>4</th>\n",
       "      <td>2022</td>\n",
       "      <td>JonesEcologicalResearchCenter</td>\n",
       "      <td>Courtney Meier</td>\n",
       "      <td>cmeier@battelleecology.org</td>\n",
       "      <td>support-copernicus-gbov@acri-st.fr</td>\n",
       "      <td>NEON</td>\n",
       "      <td>44</td>\n",
       "      <td>Croplands</td>\n",
       "      <td>31.194839</td>\n",
       "      <td>-84.468777</td>\n",
       "      <td>...</td>\n",
       "      <td>0</td>\n",
       "      <td>2.430</td>\n",
       "      <td>2.330</td>\n",
       "      <td>2019-08-26 18:00:00+00:00</td>\n",
       "      <td>['16RGV']</td>\n",
       "      <td>2019-08-26</td>\n",
       "      <td>2019-08-21</td>\n",
       "      <td>2019-08-31</td>\n",
       "      <td>16RGV</td>\n",
       "      <td>NaN</td>\n",
       "    </tr>\n",
       "    <tr>\n",
       "      <th>...</th>\n",
       "      <td>...</td>\n",
       "      <td>...</td>\n",
       "      <td>...</td>\n",
       "      <td>...</td>\n",
       "      <td>...</td>\n",
       "      <td>...</td>\n",
       "      <td>...</td>\n",
       "      <td>...</td>\n",
       "      <td>...</td>\n",
       "      <td>...</td>\n",
       "      <td>...</td>\n",
       "      <td>...</td>\n",
       "      <td>...</td>\n",
       "      <td>...</td>\n",
       "      <td>...</td>\n",
       "      <td>...</td>\n",
       "      <td>...</td>\n",
       "      <td>...</td>\n",
       "      <td>...</td>\n",
       "      <td>...</td>\n",
       "      <td>...</td>\n",
       "    </tr>\n",
       "    <tr>\n",
       "      <th>4013</th>\n",
       "      <td>6031</td>\n",
       "      <td>Woodworth</td>\n",
       "      <td>Courtney Meier</td>\n",
       "      <td>cmeier@battelleecology.org</td>\n",
       "      <td>support-copernicus-gbov@acri-st.fr</td>\n",
       "      <td>NEON</td>\n",
       "      <td>579</td>\n",
       "      <td>Croplands</td>\n",
       "      <td>47.128231</td>\n",
       "      <td>-99.241364</td>\n",
       "      <td>...</td>\n",
       "      <td>0</td>\n",
       "      <td>0.782</td>\n",
       "      <td>0.529</td>\n",
       "      <td>2019-08-20 13:22:00+00:00</td>\n",
       "      <td>['14TMT']</td>\n",
       "      <td>2019-08-20</td>\n",
       "      <td>2019-08-15</td>\n",
       "      <td>2019-08-25</td>\n",
       "      <td>14TMT</td>\n",
       "      <td>NaN</td>\n",
       "    </tr>\n",
       "    <tr>\n",
       "      <th>4014</th>\n",
       "      <td>6032</td>\n",
       "      <td>Woodworth</td>\n",
       "      <td>Courtney Meier</td>\n",
       "      <td>cmeier@battelleecology.org</td>\n",
       "      <td>support-copernicus-gbov@acri-st.fr</td>\n",
       "      <td>NEON</td>\n",
       "      <td>579</td>\n",
       "      <td>Croplands</td>\n",
       "      <td>47.128231</td>\n",
       "      <td>-99.241364</td>\n",
       "      <td>...</td>\n",
       "      <td>0</td>\n",
       "      <td>0.396</td>\n",
       "      <td>0.311</td>\n",
       "      <td>2019-09-04 14:11:00+00:00</td>\n",
       "      <td>['14TMT']</td>\n",
       "      <td>2019-09-04</td>\n",
       "      <td>2019-08-30</td>\n",
       "      <td>2019-09-09</td>\n",
       "      <td>14TMT</td>\n",
       "      <td>NaN</td>\n",
       "    </tr>\n",
       "    <tr>\n",
       "      <th>4015</th>\n",
       "      <td>6033</td>\n",
       "      <td>Woodworth</td>\n",
       "      <td>Courtney Meier</td>\n",
       "      <td>cmeier@battelleecology.org</td>\n",
       "      <td>support-copernicus-gbov@acri-st.fr</td>\n",
       "      <td>NEON</td>\n",
       "      <td>579</td>\n",
       "      <td>Croplands</td>\n",
       "      <td>47.128231</td>\n",
       "      <td>-99.241364</td>\n",
       "      <td>...</td>\n",
       "      <td>0</td>\n",
       "      <td>0.530</td>\n",
       "      <td>0.383</td>\n",
       "      <td>2019-09-18 10:29:00+00:00</td>\n",
       "      <td>['14TMT']</td>\n",
       "      <td>2019-09-18</td>\n",
       "      <td>2019-09-13</td>\n",
       "      <td>2019-09-23</td>\n",
       "      <td>14TMT</td>\n",
       "      <td>NaN</td>\n",
       "    </tr>\n",
       "    <tr>\n",
       "      <th>4016</th>\n",
       "      <td>6034</td>\n",
       "      <td>Woodworth</td>\n",
       "      <td>Courtney Meier</td>\n",
       "      <td>cmeier@battelleecology.org</td>\n",
       "      <td>support-copernicus-gbov@acri-st.fr</td>\n",
       "      <td>NEON</td>\n",
       "      <td>579</td>\n",
       "      <td>Croplands</td>\n",
       "      <td>47.128231</td>\n",
       "      <td>-99.241364</td>\n",
       "      <td>...</td>\n",
       "      <td>0</td>\n",
       "      <td>0.857</td>\n",
       "      <td>0.650</td>\n",
       "      <td>2019-10-04 09:01:00+00:00</td>\n",
       "      <td>['14TMT']</td>\n",
       "      <td>2019-10-04</td>\n",
       "      <td>2019-09-29</td>\n",
       "      <td>2019-10-09</td>\n",
       "      <td>14TMT</td>\n",
       "      <td>NaN</td>\n",
       "    </tr>\n",
       "    <tr>\n",
       "      <th>4017</th>\n",
       "      <td>6035</td>\n",
       "      <td>Woodworth</td>\n",
       "      <td>Courtney Meier</td>\n",
       "      <td>cmeier@battelleecology.org</td>\n",
       "      <td>support-copernicus-gbov@acri-st.fr</td>\n",
       "      <td>NEON</td>\n",
       "      <td>579</td>\n",
       "      <td>Croplands</td>\n",
       "      <td>47.128231</td>\n",
       "      <td>-99.241364</td>\n",
       "      <td>...</td>\n",
       "      <td>4</td>\n",
       "      <td>0.530</td>\n",
       "      <td>0.430</td>\n",
       "      <td>2019-10-17 10:39:00+00:00</td>\n",
       "      <td>['14TMT']</td>\n",
       "      <td>2019-10-17</td>\n",
       "      <td>2019-10-12</td>\n",
       "      <td>2019-10-22</td>\n",
       "      <td>14TMT</td>\n",
       "      <td>NaN</td>\n",
       "    </tr>\n",
       "  </tbody>\n",
       "</table>\n",
       "<p>4018 rows × 48 columns</p>\n",
       "</div>"
      ],
      "text/plain": [
       "      Unnamed: 0                           Site  GROUND_DATA_PI  \\\n",
       "0           2018  JonesEcologicalResearchCenter  Courtney Meier   \n",
       "1           2019  JonesEcologicalResearchCenter  Courtney Meier   \n",
       "2           2020  JonesEcologicalResearchCenter  Courtney Meier   \n",
       "3           2021  JonesEcologicalResearchCenter  Courtney Meier   \n",
       "4           2022  JonesEcologicalResearchCenter  Courtney Meier   \n",
       "...          ...                            ...             ...   \n",
       "4013        6031                      Woodworth  Courtney Meier   \n",
       "4014        6032                      Woodworth  Courtney Meier   \n",
       "4015        6033                      Woodworth  Courtney Meier   \n",
       "4016        6034                      Woodworth  Courtney Meier   \n",
       "4017        6035                      Woodworth  Courtney Meier   \n",
       "\n",
       "           GROUND_DATA_PIs_Email                          GBOV_Email Network  \\\n",
       "0     cmeier@battelleecology.org  support-copernicus-gbov@acri-st.fr    NEON   \n",
       "1     cmeier@battelleecology.org  support-copernicus-gbov@acri-st.fr    NEON   \n",
       "2     cmeier@battelleecology.org  support-copernicus-gbov@acri-st.fr    NEON   \n",
       "3     cmeier@battelleecology.org  support-copernicus-gbov@acri-st.fr    NEON   \n",
       "4     cmeier@battelleecology.org  support-copernicus-gbov@acri-st.fr    NEON   \n",
       "...                          ...                                 ...     ...   \n",
       "4013  cmeier@battelleecology.org  support-copernicus-gbov@acri-st.fr    NEON   \n",
       "4014  cmeier@battelleecology.org  support-copernicus-gbov@acri-st.fr    NEON   \n",
       "4015  cmeier@battelleecology.org  support-copernicus-gbov@acri-st.fr    NEON   \n",
       "4016  cmeier@battelleecology.org  support-copernicus-gbov@acri-st.fr    NEON   \n",
       "4017  cmeier@battelleecology.org  support-copernicus-gbov@acri-st.fr    NEON   \n",
       "\n",
       "      Elevation IGBP_class     Lat_IS     Lon_IS  ... down_flag  LAI_Miller  \\\n",
       "0            44  Croplands  31.194839 -84.468777  ...         0       4.780   \n",
       "1            44  Croplands  31.194839 -84.468777  ...         0       4.110   \n",
       "2            44  Croplands  31.194839 -84.468777  ...         0       2.700   \n",
       "3            44  Croplands  31.194839 -84.468777  ...         0       2.100   \n",
       "4            44  Croplands  31.194839 -84.468777  ...         0       2.430   \n",
       "...         ...        ...        ...        ...  ...       ...         ...   \n",
       "4013        579  Croplands  47.128231 -99.241364  ...         0       0.782   \n",
       "4014        579  Croplands  47.128231 -99.241364  ...         0       0.396   \n",
       "4015        579  Croplands  47.128231 -99.241364  ...         0       0.530   \n",
       "4016        579  Croplands  47.128231 -99.241364  ...         0       0.857   \n",
       "4017        579  Croplands  47.128231 -99.241364  ...         4       0.530   \n",
       "\n",
       "     LAI_Warren                   datetime      tiles        date  date_start  \\\n",
       "0         3.950  2019-08-26 17:43:00+00:00  ['16RGV']  2019-08-26  2019-08-21   \n",
       "1         2.650  2019-08-20 13:28:00+00:00  ['16RGV']  2019-08-20  2019-08-15   \n",
       "2         2.280  2019-08-20 07:06:00+00:00  ['16RGV']  2019-08-20  2019-08-15   \n",
       "3         1.880  2019-08-20 19:19:00+00:00  ['16RGV']  2019-08-20  2019-08-15   \n",
       "4         2.330  2019-08-26 18:00:00+00:00  ['16RGV']  2019-08-26  2019-08-21   \n",
       "...         ...                        ...        ...         ...         ...   \n",
       "4013      0.529  2019-08-20 13:22:00+00:00  ['14TMT']  2019-08-20  2019-08-15   \n",
       "4014      0.311  2019-09-04 14:11:00+00:00  ['14TMT']  2019-09-04  2019-08-30   \n",
       "4015      0.383  2019-09-18 10:29:00+00:00  ['14TMT']  2019-09-18  2019-09-13   \n",
       "4016      0.650  2019-10-04 09:01:00+00:00  ['14TMT']  2019-10-04  2019-09-29   \n",
       "4017      0.430  2019-10-17 10:39:00+00:00  ['14TMT']  2019-10-17  2019-10-12   \n",
       "\n",
       "        date_end  first_tile  second_tile  \n",
       "0     2019-08-31       16RGV          NaN  \n",
       "1     2019-08-25       16RGV          NaN  \n",
       "2     2019-08-25       16RGV          NaN  \n",
       "3     2019-08-25       16RGV          NaN  \n",
       "4     2019-08-31       16RGV          NaN  \n",
       "...          ...         ...          ...  \n",
       "4013  2019-08-25       14TMT          NaN  \n",
       "4014  2019-09-09       14TMT          NaN  \n",
       "4015  2019-09-23       14TMT          NaN  \n",
       "4016  2019-10-09       14TMT          NaN  \n",
       "4017  2019-10-22       14TMT          NaN  \n",
       "\n",
       "[4018 rows x 48 columns]"
      ]
     },
     "execution_count": 190,
     "metadata": {},
     "output_type": "execute_result"
    }
   ],
   "source": [
    "df = pd.read_csv(\"GBOV_LAI_RM_2017-now.csv\").drop(columns=[df.columns[0]])\n",
    "df"
   ]
  },
  {
   "cell_type": "code",
   "execution_count": 41,
   "metadata": {},
   "outputs": [],
   "source": [
    "# s2a_collection = ee.ImageCollection(\"COPERNICUS/S2_SR\")"
   ]
  },
  {
   "cell_type": "code",
   "execution_count": 163,
   "metadata": {},
   "outputs": [],
   "source": [
    "lat = 31.194839 \n",
    "lng = -84.468777\n",
    "\n",
    "aoi = ee.Geometry.Point(lng, lat)\n",
    "\n",
    "img = ee.Image(ee.ImageCollection('COPERNICUS/S2_SR') \n",
    "                       .filterBounds(aoi)\n",
    "                       .filter(ee.Filter.lte('CLOUDY_PIXEL_PERCENTAGE',20))\n",
    "                       .filterDate(ee.Date('2017-08-01'), ee.Date('2019-08-30')) \n",
    "                       .first() \n",
    "                       .clip(aoi))"
   ]
  },
  {
   "cell_type": "code",
   "execution_count": 164,
   "metadata": {
    "scrolled": true
   },
   "outputs": [
    {
     "name": "stdout",
     "output_type": "stream",
     "text": [
      "ee.Geometry({\n",
      "  \"functionInvocationValue\": {\n",
      "    \"functionName\": \"GeometryConstructors.Point\",\n",
      "    \"arguments\": {\n",
      "      \"coordinates\": {\n",
      "        \"constantValue\": [\n",
      "          -84.468777,\n",
      "          31.194839\n",
      "        ]\n",
      "      }\n",
      "    }\n",
      "  }\n",
      "})\n"
     ]
    }
   ],
   "source": [
    "print(aoi)"
   ]
  },
  {
   "cell_type": "code",
   "execution_count": 165,
   "metadata": {
    "scrolled": true
   },
   "outputs": [
    {
     "data": {
      "text/plain": [
       "['B1',\n",
       " 'B2',\n",
       " 'B3',\n",
       " 'B4',\n",
       " 'B5',\n",
       " 'B6',\n",
       " 'B7',\n",
       " 'B8',\n",
       " 'B8A',\n",
       " 'B9',\n",
       " 'B11',\n",
       " 'B12',\n",
       " 'AOT',\n",
       " 'WVP',\n",
       " 'SCL',\n",
       " 'TCI_R',\n",
       " 'TCI_G',\n",
       " 'TCI_B',\n",
       " 'MSK_CLDPRB',\n",
       " 'MSK_SNWPRB',\n",
       " 'QA10',\n",
       " 'QA20',\n",
       " 'QA60']"
      ]
     },
     "execution_count": 165,
     "metadata": {},
     "output_type": "execute_result"
    }
   ],
   "source": [
    "img.bandNames().getInfo()"
   ]
  },
  {
   "cell_type": "code",
   "execution_count": 166,
   "metadata": {
    "scrolled": true
   },
   "outputs": [
    {
     "data": {
      "text/html": [
       "<img src=\"https://earthengine.googleapis.com/v1alpha/projects/earthengine-legacy/thumbnails/95c61fa25c8e01326e57d906cfbbf657-cfb4fdecba0228fda0f50760d81c5bfa:getPixels\" width=\"800\"/>"
      ],
      "text/plain": [
       "<IPython.core.display.Image object>"
      ]
     },
     "execution_count": 166,
     "metadata": {},
     "output_type": "execute_result"
    }
   ],
   "source": [
    "ffa_db = img\n",
    "\n",
    "url = ffa_db.select('B1').getThumbURL()\n",
    "disp.Image(url=url, width=800)\n"
   ]
  },
  {
   "cell_type": "code",
   "execution_count": 167,
   "metadata": {},
   "outputs": [
    {
     "data": {
      "text/html": [
       "<div style=\"width:100%;\"><div style=\"position:relative;width:100%;height:0;padding-bottom:60%;\"><iframe src=\"about:blank\" style=\"position:absolute;width:100%;height:100%;left:0;top:0;border:none !important;\" data-html=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 onload=\"this.contentDocument.open();this.contentDocument.write(atob(this.getAttribute('data-html')));this.contentDocument.close();\" allowfullscreen webkitallowfullscreen mozallowfullscreen></iframe></div></div>"
      ],
      "text/plain": [
       "<folium.folium.Map at 0x19ad9a1b828>"
      ]
     },
     "metadata": {},
     "output_type": "display_data"
    }
   ],
   "source": [
    "location = aoi.centroid().coordinates().getInfo()[::-1]\n",
    "\n",
    "# Make an RGB color composite image (VV,VH,VV/VH).\n",
    "rgb = ee.Image.rgb(ffa_db.select('B1'),\n",
    "                   ffa_db.select('B7'),\n",
    "                   ffa_db.select('B3'))\n",
    "\n",
    "# Create the map object.\n",
    "m = folium.Map(location=location, zoom_start=12)\n",
    "\n",
    "# Add the S1 rgb composite to the map object.\n",
    "m.add_ee_layer(img, {\"bands\": [\"B1\", \"B6\", \"B12\"], \"max\": 5000},  'FFA')\n",
    "\n",
    "# Add a layer control panel to the map.\n",
    "m.add_child(folium.LayerControl())\n",
    "\n",
    "# Display the map.\n",
    "display(m)\n"
   ]
  },
  {
   "cell_type": "code",
   "execution_count": 168,
   "metadata": {},
   "outputs": [
    {
     "name": "stdout",
     "output_type": "stream",
     "text": [
      "Help on method Image.reduceRegion in Image:\n",
      "\n",
      "Image.reduceRegion(*args, **kwargs) method of ee.image.Image instance\n",
      "    Apply a reducer to all the pixels in a specific region. Either the reducer\n",
      "    must have the same number of inputs as the input image has bands, or it\n",
      "    must have a single input and will be repeated for each band. Returns a\n",
      "    dictionary of the reducer's outputs.\n",
      "    \n",
      "    Args:\n",
      "      image: The image to reduce.\n",
      "      reducer: The reducer to apply.\n",
      "      geometry: The region over which to reduce data.  Defaults to\n",
      "          the footprint of the image's first band.\n",
      "      scale: A nominal scale in meters of the projection to work in.\n",
      "      crs: The projection to work in. If unspecified, the projection of\n",
      "          the image's first band is used. If specified in addition to\n",
      "          scale, rescaled to the specified scale.\n",
      "      crsTransform: The list of CRS transform values.  This is\n",
      "          a row-major ordering of the 3x2 transform matrix.\n",
      "          This option is mutually exclusive with 'scale', and\n",
      "          replaces any transform already set on the projection.\n",
      "      bestEffort: If the polygon would contain too many pixels at\n",
      "          the given scale, compute and use a larger scale which\n",
      "          would allow the operation to succeed.\n",
      "      maxPixels: The maximum number of pixels to reduce.\n",
      "      tileScale: A scaling factor between 0.1 and 16 used to\n",
      "          adjust aggregation tile size; setting a larger tileScale\n",
      "          (e.g. 2 or 4) uses smaller tiles and may enable\n",
      "          computations that run out of memory with the default.\n",
      "\n"
     ]
    }
   ],
   "source": [
    "help(img.reduceRegion)"
   ]
  },
  {
   "cell_type": "code",
   "execution_count": 180,
   "metadata": {},
   "outputs": [
    {
     "data": {
      "text/plain": [
       "<ee.image.Image at 0x19ad9a91160>"
      ]
     },
     "execution_count": 180,
     "metadata": {},
     "output_type": "execute_result"
    }
   ],
   "source": [
    "img"
   ]
  },
  {
   "cell_type": "code",
   "execution_count": 183,
   "metadata": {},
   "outputs": [],
   "source": [
    "values = img.reduceRegion(reducer=ee.Reducer.mean(), scale=30, geometry=aoi, maxPixels=1e9)"
   ]
  },
  {
   "cell_type": "code",
   "execution_count": 184,
   "metadata": {},
   "outputs": [],
   "source": [
    "# values = img.select(\"B3\").reduceRegion(ee.Reducer.first(),aoi,10).get(\"B3\")"
   ]
  },
  {
   "cell_type": "code",
   "execution_count": 185,
   "metadata": {},
   "outputs": [
    {
     "data": {
      "text/plain": [
       "{'AOT': 65,\n",
       " 'B1': 265,\n",
       " 'B11': 1965,\n",
       " 'B12': 1118,\n",
       " 'B2': 327,\n",
       " 'B3': 369,\n",
       " 'B4': 532,\n",
       " 'B5': 775,\n",
       " 'B6': 1107,\n",
       " 'B7': 1280,\n",
       " 'B8': 1507,\n",
       " 'B8A': 1637,\n",
       " 'B9': 2006,\n",
       " 'MSK_CLDPRB': 0,\n",
       " 'MSK_SNWPRB': 0,\n",
       " 'QA10': 0,\n",
       " 'QA20': 0,\n",
       " 'QA60': 0,\n",
       " 'SCL': 5,\n",
       " 'TCI_B': 33,\n",
       " 'TCI_G': 39,\n",
       " 'TCI_R': 55,\n",
       " 'WVP': 351}"
      ]
     },
     "execution_count": 185,
     "metadata": {},
     "output_type": "execute_result"
    }
   ],
   "source": [
    "values.getInfo()"
   ]
  }
 ],
 "metadata": {
  "kernelspec": {
   "display_name": "Python 3",
   "language": "python",
   "name": "python3"
  },
  "language_info": {
   "codemirror_mode": {
    "name": "ipython",
    "version": 3
   },
   "file_extension": ".py",
   "mimetype": "text/x-python",
   "name": "python",
   "nbconvert_exporter": "python",
   "pygments_lexer": "ipython3",
   "version": "3.7.3"
  }
 },
 "nbformat": 4,
 "nbformat_minor": 4
}
