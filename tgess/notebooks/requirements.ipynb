{
 "cells": [
  {
   "cell_type": "code",
   "execution_count": 12,
   "id": "3ea73aa7",
   "metadata": {},
   "outputs": [],
   "source": [
    "import numpy\n",
    "import pandas\n",
    "import sklearn\n",
    "import tqdm\n",
    "import modAL\n",
    "import ConfigSpace\n",
    "import autosklearn\n",
    "import seaborn\n",
    "import pyaml"
   ]
  },
  {
   "cell_type": "code",
   "execution_count": 13,
   "id": "1d5c7cd8",
   "metadata": {},
   "outputs": [
    {
     "name": "stdout",
     "output_type": "stream",
     "text": [
      "numpy==1.20.2\n",
      "pandas==1.2.4\n",
      "sklearn==0.24.2\n",
      "tqdm==4.60.0\n",
      "modAL\n",
      "ConfigSpace==0.4.18\n",
      "autosklearn==0.13.0\n",
      "seaborn==0.11.1\n",
      "pyaml\n"
     ]
    }
   ],
   "source": [
    "for lib in [numpy, pandas, sklearn, tqdm, modAL, ConfigSpace, autosklearn, seaborn, pyaml]:\n",
    "    try:\n",
    "        print(lib.__name__+\"==\"+lib.__version__)\n",
    "    except:\n",
    "        print(lib.__name__)"
   ]
  }
 ],
 "metadata": {
  "kernelspec": {
   "display_name": "Python 3",
   "language": "python",
   "name": "python3"
  },
  "language_info": {
   "codemirror_mode": {
    "name": "ipython",
    "version": 3
   },
   "file_extension": ".py",
   "mimetype": "text/x-python",
   "name": "python",
   "nbconvert_exporter": "python",
   "pygments_lexer": "ipython3",
   "version": "3.7.10"
  }
 },
 "nbformat": 4,
 "nbformat_minor": 5
}
