{
 "cells": [
  {
   "cell_type": "markdown",
   "metadata": {},
   "source": [
    "# NEON data preprocessing"
   ]
  },
  {
   "cell_type": "code",
   "execution_count": 2,
   "metadata": {},
   "outputs": [],
   "source": [
    "import numpy as np\n",
    "import pandas as pd\n",
    "import rasterio as rio\n",
    "import matplotlib.pyplot as plt"
   ]
  },
  {
   "cell_type": "code",
   "execution_count": 3,
   "metadata": {},
   "outputs": [],
   "source": [
    "import os\n",
    "# from os import listdir\n",
    "# from os.path import isfile, join, isdir\n",
    "import glob\n",
    "# print(glob.glob(\"/home/adam/*.txt\"))\n",
    "def get_file_coords(path, filename):\n",
    "    \n",
    "    \n",
    "    return coords\n",
    "\n",
    "\n",
    "# onlyfiles = [f for f in listdir(mypath) if isfile(join(mypath, f))]"
   ]
  },
  {
   "cell_type": "code",
   "execution_count": 4,
   "metadata": {},
   "outputs": [
    {
     "data": {
      "text/plain": [
       "28"
      ]
     },
     "execution_count": 4,
     "metadata": {},
     "output_type": "execute_result"
    }
   ],
   "source": [
    "len(\"NEON.D01.BART.DP3.30012.001.\")"
   ]
  },
  {
   "cell_type": "code",
   "execution_count": 5,
   "metadata": {},
   "outputs": [
    {
     "data": {
      "text/plain": [
       "'01'"
      ]
     },
     "execution_count": 5,
     "metadata": {},
     "output_type": "execute_result"
    }
   ],
   "source": [
    "a = \"20120103dfafdsasafd\"\n",
    "a[4:6]"
   ]
  },
  {
   "cell_type": "code",
   "execution_count": 6,
   "metadata": {},
   "outputs": [],
   "source": [
    "def parse_LAI_data(path=\"data/NEON_lai-spectrometer-line\"):\n",
    "    \n",
    "    df = []\n",
    "    dirs = [d for d in os.listdir(path) if os.path.isdir(path+\"/\"+d)]\n",
    "    \n",
    "    # Loop over directories (combination of date and site)\n",
    "    for directory in dirs:\n",
    "        site, domain, month, year = parse_LAI_dir(dirs)\n",
    "        \n",
    "        # Loop over LAI images (different plots within site)\n",
    "        LAI_files = [f for f in os.listdir(os.path.join(path, directory)) if f.endswith(\"LAI.tif\")]\n",
    "        \n",
    "        for LAI_file in LAI_files:\n",
    "            parse_LAI_file(LAI_file)\n",
    "            \n",
    "        \n",
    "def parse_LAI_dir(directory):\n",
    "    site = directory[9:13]\n",
    "    domain = directory[5:8]\n",
    "    month = directory[33:35]\n",
    "    year = directory[28:32]\n",
    "    \n",
    "    return site, domain, month, year\n",
    "\n",
    "def parse_LAI_file(filename, source=\"mosaic\"):\n",
    "    if mosaic:\n",
    "        return None\n",
    "    else:\n",
    "        # Convert to dd/mm/yyyy\n",
    "        date = filename[6:8]+\"/\"+filename[4:6]+\"/\"+filename[:4]\n",
    "        return date\n",
    "\n",
    "# def get_site_data_dirs(path=\"data/NEON_lai-spectrometer-line\"):\n",
    "#     dirs = listdir(path)\n",
    "#     dirs = [d for d in dirs if isdir(path+\"/\"+d)]\n",
    "#     sites = [d[9:13] for d in dirs]\n",
    "# #     dates = [d]\n",
    "#     print(parse_dir_name(dirs[0]))\n",
    "# #     return dirs, sites, dates\n",
    "\n",
    "def get_all_lai_files():\n",
    "    return"
   ]
  },
  {
   "cell_type": "code",
   "execution_count": 7,
   "metadata": {
    "scrolled": true
   },
   "outputs": [],
   "source": [
    "# get_site_data_dirs()"
   ]
  },
  {
   "cell_type": "code",
   "execution_count": 8,
   "metadata": {},
   "outputs": [],
   "source": [
    "def parse_NEON_folders(path):\n",
    "    dirs = get_site_data_dirs(path)\n",
    "    "
   ]
  },
  {
   "cell_type": "code",
   "execution_count": 9,
   "metadata": {},
   "outputs": [
    {
     "data": {
      "text/plain": [
       "['NEON.D16.ABBY.DP2.30012.001.2017-06.basic.20210311T124919Z.RELEASE-2021',\n",
       " 'NEON.D16.ABBY.DP2.30012.001.2018-07.basic.20210311T124919Z.RELEASE-2021',\n",
       " 'NEON.D16.ABBY.DP2.30012.001.2019-07.basic.20210311T124919Z.RELEASE-2021',\n",
       " 'NEON.DOC.002385vA.pdf',\n",
       " 'NEON_lai-spectrometer-line.manifest.20210311T131531Z.json']"
      ]
     },
     "execution_count": 9,
     "metadata": {},
     "output_type": "execute_result"
    }
   ],
   "source": [
    "os.listdir('data/NEON_lai-spectrometer-line')"
   ]
  },
  {
   "cell_type": "code",
   "execution_count": 10,
   "metadata": {},
   "outputs": [],
   "source": [
    "# path = \"data/NEON_lai-spectrometer-mosaic/NEON.D01.BART.DP3.30012.001.2014-06.basic.20210304T165018Z.RELEASE-2021/\"\n",
    "path = \"data/GBOV/\"\n",
    "filename = \"GBOV_LP03_L07_SCBI_20150917_20150917_001_UOS_V2.1_300M.tif\"\n",
    "src = rio.open(path+filename)"
   ]
  },
  {
   "cell_type": "code",
   "execution_count": 11,
   "metadata": {},
   "outputs": [
    {
     "data": {
      "text/plain": [
       "BoundingBox(left=746625.0, bottom=4307265.0, right=749625.0, top=4310265.0)"
      ]
     },
     "execution_count": 11,
     "metadata": {},
     "output_type": "execute_result"
    }
   ],
   "source": [
    "src.bounds"
   ]
  },
  {
   "cell_type": "code",
   "execution_count": 12,
   "metadata": {},
   "outputs": [
    {
     "data": {
      "text/plain": [
       "CRS.from_epsg(32617)"
      ]
     },
     "execution_count": 12,
     "metadata": {},
     "output_type": "execute_result"
    }
   ],
   "source": [
    "src.crs"
   ]
  },
  {
   "cell_type": "code",
   "execution_count": 13,
   "metadata": {},
   "outputs": [
    {
     "data": {
      "text/plain": [
       "(1, 2, 3, 4, 5)"
      ]
     },
     "execution_count": 13,
     "metadata": {},
     "output_type": "execute_result"
    }
   ],
   "source": [
    "src.indexes\n",
    "\n",
    "# GBOV\n",
    "# Band 1 = LAI (0 to 10)\n",
    "# Band 2 = Valid native spatial resolution pixels used in aggregation (%)\n",
    "# Band 3 = Input out of range flag (0 = in range, 1 = out of range)\n",
    "# Band 4 = Output out of range flag (0 = in range, 1 = out of range)\n",
    "# Band 5 = 95% confidence interval\n"
   ]
  },
  {
   "cell_type": "code",
   "execution_count": 14,
   "metadata": {},
   "outputs": [
    {
     "data": {
      "text/plain": [
       "[746625.0, 4307265.0, 749625.0, 4310265.0]"
      ]
     },
     "execution_count": 14,
     "metadata": {},
     "output_type": "execute_result"
    }
   ],
   "source": [
    "list(src.bounds) #left, bottom, right, top"
   ]
  },
  {
   "cell_type": "code",
   "execution_count": 15,
   "metadata": {},
   "outputs": [],
   "source": [
    "from rasterio.plot import show as rio_show"
   ]
  },
  {
   "cell_type": "code",
   "execution_count": 16,
   "metadata": {},
   "outputs": [
    {
     "data": {
      "image/png": "[encoded data removed]",
      "text/plain": [
       "<Figure size 432x288 with 1 Axes>"
      ]
     },
     "metadata": {
      "needs_background": "light"
     },
     "output_type": "display_data"
    },
    {
     "data": {
      "text/plain": [
       "<matplotlib.axes._subplots.AxesSubplot at 0x1f800c39828>"
      ]
     },
     "execution_count": 16,
     "metadata": {},
     "output_type": "execute_result"
    }
   ],
   "source": [
    "rio_show(src)"
   ]
  },
  {
   "cell_type": "code",
   "execution_count": 17,
   "metadata": {},
   "outputs": [],
   "source": [
    "a = src.read(1)"
   ]
  },
  {
   "cell_type": "code",
   "execution_count": 18,
   "metadata": {},
   "outputs": [
    {
     "data": {
      "text/plain": [
       "array([[4.31240898, 4.42226029, 4.76675176, 4.99520913, 5.00376706,\n",
       "        4.85936455, 5.03182895, 4.72746777, 4.747457  , 5.02823538],\n",
       "       [4.30268026, 4.76321711, 4.7531056 , 5.02454305, 5.28242357,\n",
       "        5.10436932, 4.88000122, 4.90838987, 4.82730708, 4.99541946],\n",
       "       [4.09598682, 4.93075941, 4.72552522, 5.07218699, 5.15931913,\n",
       "        5.07572015, 4.8834293 , 4.90327253, 4.70002297, 4.79863602],\n",
       "       [4.82944776, 4.31231464, 4.75716693, 5.0202543 , 5.03898465,\n",
       "        5.09879503, 4.9923516 , 4.89380401, 4.62266464, 4.83198024],\n",
       "       [4.58675343, 4.38053576, 4.90037453, 4.87740754, 4.91954937,\n",
       "        5.06686641, 5.09692733, 4.90563374, 4.99853012, 4.92502776],\n",
       "       [3.74422618, 4.28907914, 4.82780282, 5.046468  , 4.99545006,\n",
       "        5.00750958, 5.11441539, 5.04116618, 4.93321741, 5.09111236],\n",
       "       [4.09333994, 4.17043302, 5.07846781, 4.90563698, 4.97772057,\n",
       "        4.85818234, 5.17292149, 4.78887431, 5.12527639, 5.17598812],\n",
       "       [4.93418569, 4.40245947, 4.68927895, 5.08779577, 5.12851908,\n",
       "        5.03107297, 4.31053066, 4.49064973, 5.18265986, 5.08768287],\n",
       "       [3.87555354, 4.61069295, 4.71483331, 3.64889821, 4.7018145 ,\n",
       "        3.93943207, 3.75118795, 5.08337322, 4.97404163, 5.06007535],\n",
       "       [4.29002323, 4.40977371, 4.86717646, 4.75041393, 4.75161258,\n",
       "        4.93296788, 4.90785708, 4.907102  , 4.97004077, 5.13767358]])"
      ]
     },
     "execution_count": 18,
     "metadata": {},
     "output_type": "execute_result"
    }
   ],
   "source": [
    "a"
   ]
  },
  {
   "cell_type": "code",
   "execution_count": null,
   "metadata": {},
   "outputs": [],
   "source": []
  },
  {
   "cell_type": "code",
   "execution_count": null,
   "metadata": {},
   "outputs": [],
   "source": []
  }
 ],
 "metadata": {
  "kernelspec": {
   "display_name": "Python 3",
   "language": "python",
   "name": "python3"
  },
  "language_info": {
   "codemirror_mode": {
    "name": "ipython",
    "version": 3
   },
   "file_extension": ".py",
   "mimetype": "text/x-python",
   "name": "python",
   "nbconvert_exporter": "python",
   "pygments_lexer": "ipython3",
   "version": "3.7.3"
  }
 },
 "nbformat": 4,
 "nbformat_minor": 4
}
