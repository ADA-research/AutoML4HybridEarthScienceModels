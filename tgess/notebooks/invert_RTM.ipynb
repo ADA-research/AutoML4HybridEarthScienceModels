{
 "cells": [
  {
   "cell_type": "code",
   "execution_count": 8,
   "id": "dafe5fc4",
   "metadata": {
    "scrolled": true
   },
   "outputs": [],
   "source": [
    "import numpy as np\n",
    "import pandas as pd\n",
    "import tgess\n",
    "import os\n",
    "from sklearn.preprocessing import StandardScaler\n",
    "from datetime import datetime\n",
    "from tqdm.auto import tqdm\n",
    "from sklearn.model_selection import cross_validate, cross_val_score\n",
    "from sklearn.linear_model import LinearRegression\n",
    "from sklearn.ensemble import RandomForestRegressor\n",
    "from sklearn.metrics import mean_absolute_error, mean_squared_error, \\\n",
    "                            r2_score, mean_absolute_percentage_error\n",
    "from sklearn.model_selection import cross_validate\n",
    "from sklearn.pipeline import Pipeline\n",
    "\n",
    "import seaborn as sns\n",
    "import matplotlib.pyplot as plt\n",
    "sns.set_theme()\n",
    "sns.set_style(\"darkgrid\")\n",
    "\n",
    "tqdm.pandas()"
   ]
  },
  {
   "cell_type": "code",
   "execution_count": 3,
   "id": "74da6d00",
   "metadata": {},
   "outputs": [
    {
     "data": {
      "text/html": [
       "<div>\n",
       "<style scoped>\n",
       "    .dataframe tbody tr th:only-of-type {\n",
       "        vertical-align: middle;\n",
       "    }\n",
       "\n",
       "    .dataframe tbody tr th {\n",
       "        vertical-align: top;\n",
       "    }\n",
       "\n",
       "    .dataframe thead th {\n",
       "        text-align: right;\n",
       "    }\n",
       "</style>\n",
       "<table border=\"1\" class=\"dataframe\">\n",
       "  <thead>\n",
       "    <tr style=\"text-align: right;\">\n",
       "      <th></th>\n",
       "      <th>Unnamed: 0</th>\n",
       "      <th>n</th>\n",
       "      <th>cab</th>\n",
       "      <th>car</th>\n",
       "      <th>cbrown</th>\n",
       "      <th>cw</th>\n",
       "      <th>cm</th>\n",
       "      <th>lai</th>\n",
       "      <th>lidfa</th>\n",
       "      <th>lidfb</th>\n",
       "      <th>...</th>\n",
       "      <th>B4</th>\n",
       "      <th>B5</th>\n",
       "      <th>B6</th>\n",
       "      <th>B7</th>\n",
       "      <th>B8</th>\n",
       "      <th>B8A</th>\n",
       "      <th>B9</th>\n",
       "      <th>B10</th>\n",
       "      <th>B11</th>\n",
       "      <th>B12</th>\n",
       "    </tr>\n",
       "  </thead>\n",
       "  <tbody>\n",
       "    <tr>\n",
       "      <th>0</th>\n",
       "      <td>0</td>\n",
       "      <td>1.734188</td>\n",
       "      <td>32.6627</td>\n",
       "      <td>6.366175</td>\n",
       "      <td>0.179771</td>\n",
       "      <td>0.0185</td>\n",
       "      <td>0.048976</td>\n",
       "      <td>0.49028</td>\n",
       "      <td>-0.43989</td>\n",
       "      <td>0.0</td>\n",
       "      <td>...</td>\n",
       "      <td>0.068401</td>\n",
       "      <td>0.093449</td>\n",
       "      <td>0.125711</td>\n",
       "      <td>0.135927</td>\n",
       "      <td>0.143495</td>\n",
       "      <td>0.147684</td>\n",
       "      <td>0.156693</td>\n",
       "      <td>0.157193</td>\n",
       "      <td>0.150868</td>\n",
       "      <td>0.113736</td>\n",
       "    </tr>\n",
       "    <tr>\n",
       "      <th>1</th>\n",
       "      <td>1</td>\n",
       "      <td>1.020396</td>\n",
       "      <td>77.5901</td>\n",
       "      <td>13.013725</td>\n",
       "      <td>0.124435</td>\n",
       "      <td>0.0185</td>\n",
       "      <td>0.061003</td>\n",
       "      <td>4.09772</td>\n",
       "      <td>-0.14219</td>\n",
       "      <td>0.0</td>\n",
       "      <td>...</td>\n",
       "      <td>0.012911</td>\n",
       "      <td>0.027579</td>\n",
       "      <td>0.119903</td>\n",
       "      <td>0.152466</td>\n",
       "      <td>0.155000</td>\n",
       "      <td>0.156023</td>\n",
       "      <td>0.154607</td>\n",
       "      <td>0.085786</td>\n",
       "      <td>0.051301</td>\n",
       "      <td>0.009628</td>\n",
       "    </tr>\n",
       "    <tr>\n",
       "      <th>2</th>\n",
       "      <td>2</td>\n",
       "      <td>1.013964</td>\n",
       "      <td>54.9053</td>\n",
       "      <td>3.123925</td>\n",
       "      <td>0.060093</td>\n",
       "      <td>0.0185</td>\n",
       "      <td>0.181260</td>\n",
       "      <td>1.84636</td>\n",
       "      <td>-0.46909</td>\n",
       "      <td>0.0</td>\n",
       "      <td>...</td>\n",
       "      <td>0.022265</td>\n",
       "      <td>0.030154</td>\n",
       "      <td>0.048618</td>\n",
       "      <td>0.052922</td>\n",
       "      <td>0.054914</td>\n",
       "      <td>0.056003</td>\n",
       "      <td>0.058415</td>\n",
       "      <td>0.050093</td>\n",
       "      <td>0.040592</td>\n",
       "      <td>0.029048</td>\n",
       "    </tr>\n",
       "    <tr>\n",
       "      <th>3</th>\n",
       "      <td>3</td>\n",
       "      <td>1.777724</td>\n",
       "      <td>32.6825</td>\n",
       "      <td>5.482975</td>\n",
       "      <td>0.132617</td>\n",
       "      <td>0.0185</td>\n",
       "      <td>0.193821</td>\n",
       "      <td>2.35852</td>\n",
       "      <td>-0.94897</td>\n",
       "      <td>0.0</td>\n",
       "      <td>...</td>\n",
       "      <td>0.011562</td>\n",
       "      <td>0.023611</td>\n",
       "      <td>0.035636</td>\n",
       "      <td>0.038003</td>\n",
       "      <td>0.039106</td>\n",
       "      <td>0.039705</td>\n",
       "      <td>0.040843</td>\n",
       "      <td>0.032082</td>\n",
       "      <td>0.022304</td>\n",
       "      <td>0.013455</td>\n",
       "    </tr>\n",
       "    <tr>\n",
       "      <th>4</th>\n",
       "      <td>4</td>\n",
       "      <td>1.192892</td>\n",
       "      <td>54.0605</td>\n",
       "      <td>2.043325</td>\n",
       "      <td>0.157657</td>\n",
       "      <td>0.0185</td>\n",
       "      <td>0.038065</td>\n",
       "      <td>7.31980</td>\n",
       "      <td>0.27147</td>\n",
       "      <td>0.0</td>\n",
       "      <td>...</td>\n",
       "      <td>0.020703</td>\n",
       "      <td>0.061226</td>\n",
       "      <td>0.224777</td>\n",
       "      <td>0.276931</td>\n",
       "      <td>0.283315</td>\n",
       "      <td>0.286093</td>\n",
       "      <td>0.283068</td>\n",
       "      <td>0.154560</td>\n",
       "      <td>0.103582</td>\n",
       "      <td>0.019764</td>\n",
       "    </tr>\n",
       "  </tbody>\n",
       "</table>\n",
       "<p>5 rows × 31 columns</p>\n",
       "</div>"
      ],
      "text/plain": [
       "   Unnamed: 0         n      cab        car    cbrown      cw        cm  \\\n",
       "0           0  1.734188  32.6627   6.366175  0.179771  0.0185  0.048976   \n",
       "1           1  1.020396  77.5901  13.013725  0.124435  0.0185  0.061003   \n",
       "2           2  1.013964  54.9053   3.123925  0.060093  0.0185  0.181260   \n",
       "3           3  1.777724  32.6825   5.482975  0.132617  0.0185  0.193821   \n",
       "4           4  1.192892  54.0605   2.043325  0.157657  0.0185  0.038065   \n",
       "\n",
       "       lai    lidfa  lidfb  ...        B4        B5        B6        B7  \\\n",
       "0  0.49028 -0.43989    0.0  ...  0.068401  0.093449  0.125711  0.135927   \n",
       "1  4.09772 -0.14219    0.0  ...  0.012911  0.027579  0.119903  0.152466   \n",
       "2  1.84636 -0.46909    0.0  ...  0.022265  0.030154  0.048618  0.052922   \n",
       "3  2.35852 -0.94897    0.0  ...  0.011562  0.023611  0.035636  0.038003   \n",
       "4  7.31980  0.27147    0.0  ...  0.020703  0.061226  0.224777  0.276931   \n",
       "\n",
       "         B8       B8A        B9       B10       B11       B12  \n",
       "0  0.143495  0.147684  0.156693  0.157193  0.150868  0.113736  \n",
       "1  0.155000  0.156023  0.154607  0.085786  0.051301  0.009628  \n",
       "2  0.054914  0.056003  0.058415  0.050093  0.040592  0.029048  \n",
       "3  0.039106  0.039705  0.040843  0.032082  0.022304  0.013455  \n",
       "4  0.283315  0.286093  0.283068  0.154560  0.103582  0.019764  \n",
       "\n",
       "[5 rows x 31 columns]"
      ]
     },
     "execution_count": 3,
     "metadata": {},
     "output_type": "execute_result"
    }
   ],
   "source": [
    "filepath = \"../data/processed/yield/PROSAIL_LUT_Sentinel2_100000_winter_wheat.csv\"\n",
    "df = pd.read_csv(filepath)\n",
    "df.head()"
   ]
  },
  {
   "cell_type": "code",
   "execution_count": 4,
   "id": "c7ad0143",
   "metadata": {},
   "outputs": [
    {
     "data": {
      "text/plain": [
       "Index(['Unnamed: 0', 'n', 'cab', 'car', 'cbrown', 'cw', 'cm', 'lai', 'lidfa',\n",
       "       'lidfb', 'hspot', 'solar_zenith', 'observer_zenith', 'relative_azimuth',\n",
       "       'rsoil', 'psoil', 'typelidf', 'alpha', 'B1', 'B2', 'B3', 'B4', 'B5',\n",
       "       'B6', 'B7', 'B8', 'B8A', 'B9', 'B10', 'B11', 'B12'],\n",
       "      dtype='object')"
      ]
     },
     "execution_count": 4,
     "metadata": {},
     "output_type": "execute_result"
    }
   ],
   "source": [
    "df.columns"
   ]
  },
  {
   "cell_type": "code",
   "execution_count": 11,
   "id": "52d4f765",
   "metadata": {},
   "outputs": [],
   "source": [
    "bands = ['B1', 'B2', 'B3', 'B4', 'B5', 'B6', 'B7', 'B8', 'B8A', 'B9', 'B10', 'B11', 'B12']\n",
    "angles = ['solar_zenith', 'observer_zenith', 'relative_azimuth']\n",
    "target = \"lai\""
   ]
  },
  {
   "cell_type": "markdown",
   "id": "7a904523",
   "metadata": {},
   "source": [
    "## Leaf area index (LAI)"
   ]
  },
  {
   "cell_type": "code",
   "execution_count": 12,
   "id": "093a4e4d",
   "metadata": {},
   "outputs": [
    {
     "data": {
      "text/plain": [
       "{'fit_time': array([22.09124494, 22.55903959, 22.97101951, 23.43519235, 24.158077  ]),\n",
       " 'score_time': array([0.32182884, 0.2114284 , 0.21202874, 0.20758128, 0.21221304]),\n",
       " 'test_r2': array([0.83587633, 0.83457002, 0.83261224, 0.83424572, 0.83309405]),\n",
       " 'train_r2': array([0.97662986, 0.97659192, 0.9766823 , 0.97653093, 0.97661703]),\n",
       " 'test_neg_mean_squared_error': array([-0.86921137, -0.88831222, -0.89428379, -0.87862425, -0.89413376]),\n",
       " 'train_neg_mean_squared_error': array([-0.12485645, -0.12463   , -0.12430709, -0.12535948, -0.12456935])}"
      ]
     },
     "execution_count": 12,
     "metadata": {},
     "output_type": "execute_result"
    }
   ],
   "source": [
    "rf = RandomForestRegressor(n_jobs=4, n_estimators=100)\n",
    "pipeline = Pipeline([('scaler', StandardScaler()), ('rf', rf)])\n",
    "\n",
    "results = cross_validate(pipeline, X=df[bands], y=df[target], cv=5,\n",
    "                         scoring=('r2', 'neg_mean_squared_error'),\n",
    "                         return_train_score=True)\n",
    "results"
   ]
  },
  {
   "cell_type": "markdown",
   "id": "bf2c46dd",
   "metadata": {},
   "source": [
    "## Dry matter content (cm)"
   ]
  },
  {
   "cell_type": "code",
   "execution_count": 13,
   "id": "1ac90f38",
   "metadata": {},
   "outputs": [
    {
     "data": {
      "text/plain": [
       "{'fit_time': array([19.39045382, 20.51151013, 20.65923595, 20.76829267, 20.72150087]),\n",
       " 'score_time': array([0.20683026, 0.20847631, 0.21388078, 0.20789194, 0.20805836]),\n",
       " 'test_r2': array([0.95892152, 0.95943761, 0.96037739, 0.96139577, 0.96013774]),\n",
       " 'train_r2': array([0.99443578, 0.99443409, 0.99435686, 0.9943024 , 0.9944312 ]),\n",
       " 'test_neg_mean_squared_error': array([-0.00013511, -0.00013204, -0.00013069, -0.00012453, -0.0001302 ]),\n",
       " 'train_neg_mean_squared_error': array([-1.81469928e-05, -1.82003108e-05, -1.83919420e-05, -1.86726165e-05,\n",
       "        -1.81943787e-05])}"
      ]
     },
     "execution_count": 13,
     "metadata": {},
     "output_type": "execute_result"
    }
   ],
   "source": [
    "rf = RandomForestRegressor(n_jobs=4, n_estimators=100)\n",
    "pipeline = Pipeline([('scaler', StandardScaler()), ('rf', rf)])\n",
    "\n",
    "results = cross_validate(pipeline, X=df[bands], y=df[\"cm\"], cv=5,\n",
    "                         scoring=('r2', 'neg_mean_squared_error'),\n",
    "                         return_train_score=True)\n",
    "results"
   ]
  },
  {
   "cell_type": "markdown",
   "id": "1ecb4cee",
   "metadata": {},
   "source": [
    "## Chlorophyll a+b (cab)"
   ]
  },
  {
   "cell_type": "code",
   "execution_count": 18,
   "id": "c6a058bd",
   "metadata": {},
   "outputs": [
    {
     "data": {
      "text/plain": [
       "{'fit_time': array([19.14919996, 20.33138537, 20.92085147, 20.64294004, 20.86544967]),\n",
       " 'score_time': array([0.21191359, 0.21172237, 0.31363964, 0.31374907, 0.20783043]),\n",
       " 'test_r2': array([0.92054192, 0.9184823 , 0.91887201, 0.91763987, 0.91835021]),\n",
       " 'train_r2': array([0.98851369, 0.98860193, 0.98857588, 0.9886815 , 0.98857134]),\n",
       " 'test_neg_mean_squared_error': array([-23.91602677, -24.36973078, -24.19228296, -24.81841859,\n",
       "        -24.53359268]),\n",
       " 'train_neg_mean_squared_error': array([-3.44305115, -3.422413  , -3.43228638, -3.3916838 , -3.42724443])}"
      ]
     },
     "execution_count": 18,
     "metadata": {},
     "output_type": "execute_result"
    }
   ],
   "source": [
    "rf = RandomForestRegressor(n_jobs=4, n_estimators=100)\n",
    "pipeline = Pipeline([('scaler', StandardScaler()), ('rf', rf)])\n",
    "\n",
    "results = cross_validate(pipeline, X=df[bands], y=df[\"cab\"], cv=5,\n",
    "                         scoring=('r2', 'neg_mean_squared_error'),\n",
    "                         return_train_score=True)\n",
    "results"
   ]
  }
 ],
 "metadata": {
  "kernelspec": {
   "display_name": "Python 3",
   "language": "python",
   "name": "python3"
  },
  "language_info": {
   "codemirror_mode": {
    "name": "ipython",
    "version": 3
   },
   "file_extension": ".py",
   "mimetype": "text/x-python",
   "name": "python",
   "nbconvert_exporter": "python",
   "pygments_lexer": "ipython3",
   "version": "3.7.10"
  }
 },
 "nbformat": 4,
 "nbformat_minor": 5
}
